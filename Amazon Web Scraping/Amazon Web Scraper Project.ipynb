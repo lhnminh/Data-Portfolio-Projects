{
 "cells": [
  {
   "cell_type": "code",
   "execution_count": 1,
   "id": "5d63f9b8",
   "metadata": {},
   "outputs": [],
   "source": [
    "# Import Libraries\n",
    "\n",
    "from bs4 import BeautifulSoup\n",
    "import requests\n",
    "import time\n",
    "import datetime\n",
    "import pandas as pd\n",
    "\n",
    "\n",
    "import smtplib"
   ]
  },
  {
   "cell_type": "code",
   "execution_count": 11,
   "id": "0623357c",
   "metadata": {},
   "outputs": [
    {
     "name": "stdout",
     "output_type": "stream",
     "text": [
      "\n",
      "                   Timberland Short Watch Cap\n",
      "                  \n",
      "\n",
      "                  $20.00\n",
      "                 \n"
     ]
    }
   ],
   "source": [
    "# Connect to Website and pull in data\n",
    "\n",
    "URL = 'https://www.amazon.com/Timberland-Short-Watch-Woven-Label/dp/B07CTH8ZMH/ref=lp_23683650011_1_1'\n",
    "\n",
    "headers = {\"User-Agent\": \"Mozilla/5.0 (Windows NT 10.0; Win64; x64) AppleWebKit/537.36 (KHTML, like Gecko) Chrome/78.0.3904.108 Safari/537.36\", \"Accept-Encoding\":\"gzip, deflate\", \"Accept\":\"text/html,application/xhtml+xml,application/xml;q=0.9,*/*;q=0.8\", \"DNT\":\"1\",\"Connection\":\"close\", \"Upgrade-Insecure-Requests\":\"1\"}\n",
    "\n",
    "page = requests.get(URL, headers=headers)\n",
    "\n",
    "soup1 = BeautifulSoup(page.content, \"html.parser\")\n",
    "\n",
    "soup2 = BeautifulSoup(soup1.prettify(), \"html.parser\")\n",
    "\n",
    "title = soup2.find(id='productTitle').get_text()\n",
    "\n",
    "price = soup2.find(\"span\",{\"class\": \"a-offscreen\"}).get_text()\n",
    "\n",
    "\n",
    "print(title)\n",
    "print(price)"
   ]
  },
  {
   "cell_type": "code",
   "execution_count": 12,
   "id": "fed9b003",
   "metadata": {},
   "outputs": [
    {
     "name": "stdout",
     "output_type": "stream",
     "text": [
      "15:05:07\n",
      "2022-01-25 15:05:07\n"
     ]
    }
   ],
   "source": [
    "today = datetime.date.today()\n",
    "t = time.localtime()\n",
    "current_time = time.strftime(\"%H:%M:%S\", t)\n",
    "print(current_time)\n",
    "\n",
    "today = f\"{str(today)} {current_time}\"\n",
    "\n",
    "print(today)"
   ]
  },
  {
   "cell_type": "code",
   "execution_count": 13,
   "id": "93b091d4",
   "metadata": {},
   "outputs": [
    {
     "name": "stdout",
     "output_type": "stream",
     "text": [
      "Timberland Short Watch Cap\n",
      "20.00\n"
     ]
    }
   ],
   "source": [
    "price = price.strip()[1:]\n",
    "title = title.strip()\n",
    "\n",
    "print(title)\n",
    "print(price)"
   ]
  },
  {
   "cell_type": "code",
   "execution_count": 14,
   "id": "5d51b383",
   "metadata": {},
   "outputs": [],
   "source": [
    "import csv\n",
    "\n",
    "header = [\"Title\", \"Price\", \"Date\"]\n",
    "data = [title,price, today]\n",
    "\n",
    "with open('Amazon_Web_Scraper_Dataset.csv','w', newline = '', encoding = 'UTF8') as f:\n",
    "    writer = csv.writer(f)\n",
    "    writer.writerow(header)\n",
    "    writer.writerow(data)\n"
   ]
  },
  {
   "cell_type": "code",
   "execution_count": 15,
   "id": "293bb53b",
   "metadata": {},
   "outputs": [
    {
     "name": "stdout",
     "output_type": "stream",
     "text": [
      "                        Title  Price                 Date\n",
      "0  Timberland Short Watch Cap   20.0  2022-01-25 15:05:07\n"
     ]
    }
   ],
   "source": [
    "df = pd.read_csv(r'C:\\Users\\Minh Le\\Documents\\Data Analyst Project\\Amazon Scraping\\Amazon_Web_Scraper_Dataset.csv')\n",
    "\n",
    "print(df)"
   ]
  },
  {
   "cell_type": "code",
   "execution_count": 8,
   "id": "7b864529",
   "metadata": {},
   "outputs": [
    {
     "data": {
      "text/plain": [
       "\"\\nwith open('Amazon_Web_Scraper_Dataset.csv','a+', newline = '', encoding = 'UTF8') as f:\\n    writer = csv.writer(f)\\n    writer.writerow(data)\\n\""
      ]
     },
     "execution_count": 8,
     "metadata": {},
     "output_type": "execute_result"
    }
   ],
   "source": [
    "#Appending data to the csv\n",
    "\n",
    "'''\n",
    "with open('Amazon_Web_Scraper_Dataset.csv','a+', newline = '', encoding = 'UTF8') as f:\n",
    "    writer = csv.writer(f)\n",
    "    writer.writerow(data)\n",
    "'''\n"
   ]
  },
  {
   "cell_type": "code",
   "execution_count": 16,
   "id": "252adf20",
   "metadata": {},
   "outputs": [],
   "source": [
    "def check_price():\n",
    "    page = requests.get(URL, headers=headers)\n",
    "\n",
    "    soup1 = BeautifulSoup(page.content, \"html.parser\")\n",
    "\n",
    "    soup2 = BeautifulSoup(soup1.prettify(), \"html.parser\")\n",
    "\n",
    "    title = soup2.find(id='productTitle').get_text()\n",
    "\n",
    "    price = soup2.find(\"span\",{\"class\": \"a-offscreen\"}).get_text()\n",
    "    \n",
    "    price = price.strip()[1:]\n",
    "    \n",
    "    title = title.strip()\n",
    "    \n",
    "    today = datetime.date.today()\n",
    "    t = time.localtime()\n",
    "    current_time = time.strftime(\"%H:%M:%S\", t)\n",
    "    print(current_time)\n",
    "\n",
    "    today = f\"{str(today)} {current_time}\"\n",
    "    \n",
    "    header = [\"Title\", \"Price\", \"Date\"]\n",
    "    data = [title,price, today]\n",
    "    with open('Amazon_Web_Scraper_Dataset.csv','a+', newline = '', encoding = 'UTF8') as f:\n",
    "        writer = csv.writer(f)\n",
    "        writer.writerow(data)\n",
    "    "
   ]
  },
  {
   "cell_type": "code",
   "execution_count": 17,
   "id": "cc8b497c",
   "metadata": {},
   "outputs": [
    {
     "name": "stdout",
     "output_type": "stream",
     "text": [
      "15:05:54\n",
      "15:06:07\n",
      "15:06:20\n",
      "15:06:32\n",
      "15:06:45\n",
      "15:06:58\n",
      "15:07:11\n",
      "15:07:24\n",
      "15:07:36\n",
      "15:07:49\n"
     ]
    }
   ],
   "source": [
    "for i in range(10):\n",
    "    check_price()\n",
    "    time.sleep(10) #1 day"
   ]
  },
  {
   "cell_type": "code",
   "execution_count": 18,
   "id": "7a6ae116",
   "metadata": {},
   "outputs": [
    {
     "name": "stdout",
     "output_type": "stream",
     "text": [
      "                         Title  Price                 Date\n",
      "0   Timberland Short Watch Cap   20.0  2022-01-25 15:05:07\n",
      "1   Timberland Short Watch Cap   20.0  2022-01-25 15:05:54\n",
      "2   Timberland Short Watch Cap   20.0  2022-01-25 15:06:07\n",
      "3   Timberland Short Watch Cap   20.0  2022-01-25 15:06:20\n",
      "4   Timberland Short Watch Cap   20.0  2022-01-25 15:06:32\n",
      "5   Timberland Short Watch Cap   20.0  2022-01-25 15:06:45\n",
      "6   Timberland Short Watch Cap   20.0  2022-01-25 15:06:58\n",
      "7   Timberland Short Watch Cap   20.0  2022-01-25 15:07:11\n",
      "8   Timberland Short Watch Cap   20.0  2022-01-25 15:07:24\n",
      "9   Timberland Short Watch Cap   20.0  2022-01-25 15:07:36\n",
      "10  Timberland Short Watch Cap   20.0  2022-01-25 15:07:49\n"
     ]
    }
   ],
   "source": [
    "#Checking\n",
    "\n",
    "df = pd.read_csv(r'C:\\Users\\Minh Le\\Documents\\Data Analyst Project\\Amazon Scraping\\Amazon_Web_Scraper_Dataset.csv')\n",
    "\n",
    "print(df)"
   ]
  }
 ],
 "metadata": {
  "kernelspec": {
   "display_name": "Python 3 (ipykernel)",
   "language": "python",
   "name": "python3"
  },
  "language_info": {
   "codemirror_mode": {
    "name": "ipython",
    "version": 3
   },
   "file_extension": ".py",
   "mimetype": "text/x-python",
   "name": "python",
   "nbconvert_exporter": "python",
   "pygments_lexer": "ipython3",
   "version": "3.9.7"
  }
 },
 "nbformat": 4,
 "nbformat_minor": 5
}
